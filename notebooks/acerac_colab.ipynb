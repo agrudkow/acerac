{
  "nbformat": 4,
  "nbformat_minor": 0,
  "metadata": {
    "colab": {
      "name": "acerac-colab.ipynb",
      "provenance": [],
      "authorship_tag": "ABX9TyOupQcI3ND2yJl0uhbppj66",
      "include_colab_link": true
    },
    "kernelspec": {
      "name": "python3",
      "display_name": "Python 3"
    },
    "language_info": {
      "name": "python"
    },
    "accelerator": "GPU"
  },
  "cells": [
    {
      "cell_type": "markdown",
      "metadata": {
        "id": "view-in-github",
        "colab_type": "text"
      },
      "source": [
        "<a href=\"https://colab.research.google.com/github/agrudkow/acerac/blob/main/notebooks/acerac_colab.ipynb\" target=\"_parent\"><img src=\"https://colab.research.google.com/assets/colab-badge.svg\" alt=\"Open In Colab\"/></a>"
      ]
    },
    {
      "cell_type": "code",
      "execution_count": 1,
      "metadata": {
        "colab": {
          "base_uri": "https://localhost:8080/"
        },
        "id": "joNCr7LcGB8i",
        "outputId": "b032396c-6255-4ef3-e7f1-89b97bacb12a"
      },
      "outputs": [
        {
          "output_type": "stream",
          "name": "stdout",
          "text": [
            "Selecting previously unselected package libgl1-mesa-glx:amd64.\n",
            "(Reading database ... 155335 files and directories currently installed.)\n",
            "Preparing to unpack .../0-libgl1-mesa-glx_20.0.8-0ubuntu1~18.04.1_amd64.deb ...\n",
            "Unpacking libgl1-mesa-glx:amd64 (20.0.8-0ubuntu1~18.04.1) ...\n",
            "Selecting previously unselected package libglew2.0:amd64.\n",
            "Preparing to unpack .../1-libglew2.0_2.0.0-5_amd64.deb ...\n",
            "Unpacking libglew2.0:amd64 (2.0.0-5) ...\n",
            "Selecting previously unselected package libglew-dev:amd64.\n",
            "Preparing to unpack .../2-libglew-dev_2.0.0-5_amd64.deb ...\n",
            "Unpacking libglew-dev:amd64 (2.0.0-5) ...\n",
            "Selecting previously unselected package libglfw3:amd64.\n",
            "Preparing to unpack .../3-libglfw3_3.2.1-1_amd64.deb ...\n",
            "Unpacking libglfw3:amd64 (3.2.1-1) ...\n",
            "Selecting previously unselected package patchelf.\n",
            "Preparing to unpack .../4-patchelf_0.9-1_amd64.deb ...\n",
            "Unpacking patchelf (0.9-1) ...\n",
            "Selecting previously unselected package libosmesa6:amd64.\n",
            "Preparing to unpack .../5-libosmesa6_20.0.8-0ubuntu1~18.04.1_amd64.deb ...\n",
            "Unpacking libosmesa6:amd64 (20.0.8-0ubuntu1~18.04.1) ...\n",
            "Selecting previously unselected package libosmesa6-dev:amd64.\n",
            "Preparing to unpack .../6-libosmesa6-dev_20.0.8-0ubuntu1~18.04.1_amd64.deb ...\n",
            "Unpacking libosmesa6-dev:amd64 (20.0.8-0ubuntu1~18.04.1) ...\n",
            "Setting up patchelf (0.9-1) ...\n",
            "Setting up libosmesa6:amd64 (20.0.8-0ubuntu1~18.04.1) ...\n",
            "Setting up libglfw3:amd64 (3.2.1-1) ...\n",
            "Setting up libgl1-mesa-glx:amd64 (20.0.8-0ubuntu1~18.04.1) ...\n",
            "Setting up libglew2.0:amd64 (2.0.0-5) ...\n",
            "Setting up libglew-dev:amd64 (2.0.0-5) ...\n",
            "Setting up libosmesa6-dev:amd64 (20.0.8-0ubuntu1~18.04.1) ...\n",
            "Processing triggers for man-db (2.8.3-2ubuntu0.1) ...\n",
            "Processing triggers for libc-bin (2.27-3ubuntu1.3) ...\n",
            "/sbin/ldconfig.real: /usr/local/lib/python3.7/dist-packages/ideep4py/lib/libmkldnn.so.0 is not a symbolic link\n",
            "\n",
            "/sbin/ldconfig.real: /usr/local/lib/python3.7/dist-packages/ideep4py/lib/libmkldnn.so.0 is not a symbolic link\n",
            "\n",
            "Collecting mujoco-py<2.2,>=2.1\n",
            "  Downloading mujoco_py-2.1.2.14-py3-none-any.whl (2.4 MB)\n",
            "\u001b[K     |████████████████████████████████| 2.4 MB 4.9 MB/s \n",
            "\u001b[?25hRequirement already satisfied: Cython>=0.27.2 in /usr/local/lib/python3.7/dist-packages (from mujoco-py<2.2,>=2.1) (0.29.28)\n",
            "Requirement already satisfied: cffi>=1.10 in /usr/local/lib/python3.7/dist-packages (from mujoco-py<2.2,>=2.1) (1.15.0)\n",
            "Requirement already satisfied: numpy>=1.11 in /usr/local/lib/python3.7/dist-packages (from mujoco-py<2.2,>=2.1) (1.21.5)\n",
            "Requirement already satisfied: imageio>=2.1.2 in /usr/local/lib/python3.7/dist-packages (from mujoco-py<2.2,>=2.1) (2.4.1)\n",
            "Collecting glfw>=1.4.0\n",
            "  Downloading glfw-2.5.1-py2.py27.py3.py30.py31.py32.py33.py34.py35.py36.py37.py38-none-manylinux2014_x86_64.whl (205 kB)\n",
            "\u001b[K     |████████████████████████████████| 205 kB 21.9 MB/s \n",
            "\u001b[?25hCollecting fasteners~=0.15\n",
            "  Downloading fasteners-0.17.3-py3-none-any.whl (18 kB)\n",
            "Requirement already satisfied: pycparser in /usr/local/lib/python3.7/dist-packages (from cffi>=1.10->mujoco-py<2.2,>=2.1) (2.21)\n",
            "Requirement already satisfied: pillow in /usr/local/lib/python3.7/dist-packages (from imageio>=2.1.2->mujoco-py<2.2,>=2.1) (7.1.2)\n",
            "Installing collected packages: glfw, fasteners, mujoco-py\n",
            "Successfully installed fasteners-0.17.3 glfw-2.5.1 mujoco-py-2.1.2.14\n",
            "Compiling /usr/local/lib/python3.7/dist-packages/mujoco_py/cymj.pyx because it depends on /usr/local/lib/python3.7/dist-packages/mujoco_py/pxd/mujoco.pxd.\n",
            "[1/1] Cythonizing /usr/local/lib/python3.7/dist-packages/mujoco_py/cymj.pyx\n",
            "running build_ext\n",
            "building 'mujoco_py.cymj' extension\n",
            "creating /usr/local/lib/python3.7/dist-packages/mujoco_py/generated/_pyxbld_2.1.2.14_37_linuxcpuextensionbuilder\n",
            "creating /usr/local/lib/python3.7/dist-packages/mujoco_py/generated/_pyxbld_2.1.2.14_37_linuxcpuextensionbuilder/temp.linux-x86_64-3.7\n",
            "creating /usr/local/lib/python3.7/dist-packages/mujoco_py/generated/_pyxbld_2.1.2.14_37_linuxcpuextensionbuilder/temp.linux-x86_64-3.7/usr\n",
            "creating /usr/local/lib/python3.7/dist-packages/mujoco_py/generated/_pyxbld_2.1.2.14_37_linuxcpuextensionbuilder/temp.linux-x86_64-3.7/usr/local\n",
            "creating /usr/local/lib/python3.7/dist-packages/mujoco_py/generated/_pyxbld_2.1.2.14_37_linuxcpuextensionbuilder/temp.linux-x86_64-3.7/usr/local/lib\n",
            "creating /usr/local/lib/python3.7/dist-packages/mujoco_py/generated/_pyxbld_2.1.2.14_37_linuxcpuextensionbuilder/temp.linux-x86_64-3.7/usr/local/lib/python3.7\n",
            "creating /usr/local/lib/python3.7/dist-packages/mujoco_py/generated/_pyxbld_2.1.2.14_37_linuxcpuextensionbuilder/temp.linux-x86_64-3.7/usr/local/lib/python3.7/dist-packages\n",
            "creating /usr/local/lib/python3.7/dist-packages/mujoco_py/generated/_pyxbld_2.1.2.14_37_linuxcpuextensionbuilder/temp.linux-x86_64-3.7/usr/local/lib/python3.7/dist-packages/mujoco_py\n",
            "creating /usr/local/lib/python3.7/dist-packages/mujoco_py/generated/_pyxbld_2.1.2.14_37_linuxcpuextensionbuilder/temp.linux-x86_64-3.7/usr/local/lib/python3.7/dist-packages/mujoco_py/gl\n",
            "x86_64-linux-gnu-gcc -pthread -Wno-unused-result -Wsign-compare -DNDEBUG -g -fwrapv -O2 -Wall -g -fdebug-prefix-map=/build/python3.7-pX47U3/python3.7-3.7.12=. -fstack-protector-strong -Wformat -Werror=format-security -g -fdebug-prefix-map=/build/python3.7-pX47U3/python3.7-3.7.12=. -fstack-protector-strong -Wformat -Werror=format-security -Wdate-time -D_FORTIFY_SOURCE=2 -fPIC -I/usr/local/lib/python3.7/dist-packages/mujoco_py -I/root/.mujoco/mujoco210/include -I/usr/local/lib/python3.7/dist-packages/numpy/core/include -I/usr/include/python3.7m -c /usr/local/lib/python3.7/dist-packages/mujoco_py/cymj.c -o /usr/local/lib/python3.7/dist-packages/mujoco_py/generated/_pyxbld_2.1.2.14_37_linuxcpuextensionbuilder/temp.linux-x86_64-3.7/usr/local/lib/python3.7/dist-packages/mujoco_py/cymj.o -fopenmp -w\n",
            "x86_64-linux-gnu-gcc -pthread -Wno-unused-result -Wsign-compare -DNDEBUG -g -fwrapv -O2 -Wall -g -fdebug-prefix-map=/build/python3.7-pX47U3/python3.7-3.7.12=. -fstack-protector-strong -Wformat -Werror=format-security -g -fdebug-prefix-map=/build/python3.7-pX47U3/python3.7-3.7.12=. -fstack-protector-strong -Wformat -Werror=format-security -Wdate-time -D_FORTIFY_SOURCE=2 -fPIC -I/usr/local/lib/python3.7/dist-packages/mujoco_py -I/root/.mujoco/mujoco210/include -I/usr/local/lib/python3.7/dist-packages/numpy/core/include -I/usr/include/python3.7m -c /usr/local/lib/python3.7/dist-packages/mujoco_py/gl/osmesashim.c -o /usr/local/lib/python3.7/dist-packages/mujoco_py/generated/_pyxbld_2.1.2.14_37_linuxcpuextensionbuilder/temp.linux-x86_64-3.7/usr/local/lib/python3.7/dist-packages/mujoco_py/gl/osmesashim.o -fopenmp -w\n",
            "creating /usr/local/lib/python3.7/dist-packages/mujoco_py/generated/_pyxbld_2.1.2.14_37_linuxcpuextensionbuilder/lib.linux-x86_64-3.7\n",
            "creating /usr/local/lib/python3.7/dist-packages/mujoco_py/generated/_pyxbld_2.1.2.14_37_linuxcpuextensionbuilder/lib.linux-x86_64-3.7/mujoco_py\n",
            "x86_64-linux-gnu-gcc -pthread -shared -Wl,-O1 -Wl,-Bsymbolic-functions -Wl,-Bsymbolic-functions -Wl,-z,relro -Wl,-Bsymbolic-functions -Wl,-z,relro -g -fdebug-prefix-map=/build/python3.7-pX47U3/python3.7-3.7.12=. -fstack-protector-strong -Wformat -Werror=format-security -Wdate-time -D_FORTIFY_SOURCE=2 /usr/local/lib/python3.7/dist-packages/mujoco_py/generated/_pyxbld_2.1.2.14_37_linuxcpuextensionbuilder/temp.linux-x86_64-3.7/usr/local/lib/python3.7/dist-packages/mujoco_py/cymj.o /usr/local/lib/python3.7/dist-packages/mujoco_py/generated/_pyxbld_2.1.2.14_37_linuxcpuextensionbuilder/temp.linux-x86_64-3.7/usr/local/lib/python3.7/dist-packages/mujoco_py/gl/osmesashim.o -L/root/.mujoco/mujoco210/bin -Wl,--enable-new-dtags,-R/root/.mujoco/mujoco210/bin -lmujoco210 -lglewosmesa -lOSMesa -lGL -o /usr/local/lib/python3.7/dist-packages/mujoco_py/generated/_pyxbld_2.1.2.14_37_linuxcpuextensionbuilder/lib.linux-x86_64-3.7/mujoco_py/cymj.cpython-37m-x86_64-linux-gnu.so -fopenmp\n"
          ]
        }
      ],
      "source": [
        "#Include this at the top of your colab code\n",
        "import os\n",
        "if not os.path.exists('.mujoco_setup_complete'):\n",
        "  # Get the prereqs\n",
        "  !apt-get -qq update\n",
        "  !apt-get -qq install -y libosmesa6-dev libgl1-mesa-glx libglfw3 libgl1-mesa-dev libglew-dev patchelf\n",
        "  # Get Mujoco\n",
        "  !mkdir ~/.mujoco\n",
        "  !wget -q https://mujoco.org/download/mujoco210-linux-x86_64.tar.gz -O mujoco.tar.gz\n",
        "  !tar -zxf mujoco.tar.gz -C \"$HOME/.mujoco\"\n",
        "  !rm mujoco.tar.gz\n",
        "  # Add it to the actively loaded path and the bashrc path (these only do so much)\n",
        "  !echo 'export LD_LIBRARY_PATH=$LD_LIBRARY_PATH:$HOME/.mujoco/mujoco210/bin' >> ~/.bashrc \n",
        "  !echo 'export LD_PRELOAD=$LD_PRELOAD:/usr/lib/x86_64-linux-gnu/libGLEW.so' >> ~/.bashrc \n",
        "  # THE ANNOYING ONE, FORCE IT INTO LDCONFIG SO WE ACTUALLY GET ACCESS TO IT THIS SESSION\n",
        "  !echo \"/root/.mujoco/mujoco210/bin\" > /etc/ld.so.conf.d/mujoco_ld_lib_path.conf\n",
        "  !ldconfig\n",
        "  # Install Mujoco-py\n",
        "  !pip3 install -U 'mujoco-py<2.2,>=2.1'\n",
        "  # run once\n",
        "  !touch .mujoco_setup_complete\n",
        "\n",
        "try:\n",
        "  if _mujoco_run_once:\n",
        "    pass\n",
        "except NameError:\n",
        "  _mujoco_run_once = False\n",
        "if not _mujoco_run_once:\n",
        "  # Add it to the actively loaded path and the bashrc path (these only do so much)\n",
        "  try:\n",
        "    os.environ['LD_LIBRARY_PATH']=os.environ['LD_LIBRARY_PATH'] + ':/root/.mujoco/mujoco210/bin'\n",
        "  except KeyError:\n",
        "    os.environ['LD_LIBRARY_PATH']='/root/.mujoco/mujoco210/bin'\n",
        "  try:\n",
        "    os.environ['LD_PRELOAD']=os.environ['LD_PRELOAD'] + ':/usr/lib/x86_64-linux-gnu/libGLEW.so'\n",
        "  except KeyError:\n",
        "    os.environ['LD_PRELOAD']='/usr/lib/x86_64-linux-gnu/libGLEW.so'\n",
        "  # presetup so we don't see output on first env initialization\n",
        "  import mujoco_py\n",
        "  _mujoco_run_once = True"
      ]
    },
    {
      "cell_type": "code",
      "source": [
        "! git clone https://github.com/agrudkow/acerac.git"
      ],
      "metadata": {
        "colab": {
          "base_uri": "https://localhost:8080/"
        },
        "id": "tEzVg2OeGt7T",
        "outputId": "31bc0ce0-ae8d-40db-d6df-1de747331d8b"
      },
      "execution_count": 2,
      "outputs": [
        {
          "output_type": "stream",
          "name": "stdout",
          "text": [
            "Cloning into 'acerac'...\n",
            "remote: Enumerating objects: 535, done.\u001b[K\n",
            "remote: Counting objects: 100% (535/535), done.\u001b[K\n",
            "remote: Compressing objects: 100% (472/472), done.\u001b[K\n",
            "remote: Total 535 (delta 64), reused 529 (delta 59), pack-reused 0\u001b[K\n",
            "Receiving objects: 100% (535/535), 14.48 MiB | 17.40 MiB/s, done.\n",
            "Resolving deltas: 100% (64/64), done.\n"
          ]
        }
      ]
    },
    {
      "cell_type": "code",
      "source": [
        "%cd acerac"
      ],
      "metadata": {
        "colab": {
          "base_uri": "https://localhost:8080/"
        },
        "id": "ap8oR_-JHGI2",
        "outputId": "f0a90ac6-68e2-4eea-bce1-5ea62f92f4ea"
      },
      "execution_count": 12,
      "outputs": [
        {
          "output_type": "stream",
          "name": "stdout",
          "text": [
            "/content/acerac\n"
          ]
        }
      ]
    },
    {
      "cell_type": "code",
      "source": [
        "import os\n",
        "old_ld_preload = os.environ['LD_PRELOAD']\n",
        "del os.environ['LD_PRELOAD']"
      ],
      "metadata": {
        "id": "DMA6ZTqeHoox"
      },
      "execution_count": 16,
      "outputs": []
    },
    {
      "cell_type": "code",
      "source": [
        "!python acer/run.py --algo acerac --env_name HalfCheetah-v2 \\\n",
        "    --gamma 0.99 --lam 0.9 --b 2 --c0 0.1 --c 10 --actor_lr 0.00003 --critic_lr 0.00006 \\\n",
        "    --actor_layers 256 256  --critic_layers 256 256 --memory_size 1000000 \\\n",
        "    --num_parallel_envs 10 --actor_beta_penalty 0.001 --batches_per_env 10 \\\n",
        "    --num_evaluation_runs 5  --std 0.4  --max_time_steps 3000000 --tau 4 --alpha 0.5"
      ],
      "metadata": {
        "colab": {
          "base_uri": "https://localhost:8080/"
        },
        "id": "Eb4Ur0eZGwuB",
        "outputId": "a65fe6b0-5804-437c-f13d-f2c179711ee7"
      },
      "execution_count": 19,
      "outputs": [
        {
          "output_type": "stream",
          "name": "stdout",
          "text": [
            "/usr/local/lib/python3.7/dist-packages/keras/optimizer_v2/adam.py:105: UserWarning: The `lr` argument is deprecated, use `learning_rate` instead.\n",
            "  super(Adam, self).__init__(name, **kwargs)\n",
            "WARNING:tensorflow:From /usr/local/lib/python3.7/dist-packages/tensorflow/python/ops/linalg/linear_operator_kronecker.py:224: LinearOperator.graph_parents (from tensorflow.python.ops.linalg.linear_operator) is deprecated and will be removed in a future version.\n",
            "Instructions for updating:\n",
            "Do not call `graph_parents`.\n",
            "2022-03-20 16:22:33,079 [WARNI]  From /usr/local/lib/python3.7/dist-packages/tensorflow/python/ops/linalg/linear_operator_kronecker.py:224: LinearOperator.graph_parents (from tensorflow.python.ops.linalg.linear_operator) is deprecated and will be removed in a future version.\n",
            "Instructions for updating:\n",
            "Do not call `graph_parents`.\n",
            "2022-03-20 16:22:39,282 [INFO ]  evaluation run, return: -204.4292557465258\n",
            "2022-03-20 16:22:39,282 [INFO ]  evaluation run, return: 58.15833973540632\n",
            "2022-03-20 16:22:39,282 [INFO ]  evaluation run, return: -82.37383461881718\n",
            "2022-03-20 16:22:39,282 [INFO ]  evaluation run, return: 42.666456238286244\n",
            "2022-03-20 16:22:39,282 [INFO ]  evaluation run, return: -149.75191653505556\n",
            "2022-03-20 16:22:56,651 [INFO ]  finished episode 1, return: -352.7892667381991, total time steps done: 9991\n",
            "2022-03-20 16:22:56,800 [INFO ]  finished episode 2, return: -301.58638352278876, total time steps done: 9992\n",
            "2022-03-20 16:22:56,810 [INFO ]  finished episode 3, return: -319.16308753767146, total time steps done: 9993\n",
            "2022-03-20 16:22:56,819 [INFO ]  finished episode 4, return: -238.66184741383952, total time steps done: 9994\n",
            "2022-03-20 16:22:56,829 [INFO ]  finished episode 5, return: -332.92686886163364, total time steps done: 9995\n",
            "2022-03-20 16:22:56,839 [INFO ]  finished episode 6, return: -348.7966510275906, total time steps done: 9996\n",
            "2022-03-20 16:22:56,848 [INFO ]  finished episode 7, return: -222.94274222870516, total time steps done: 9997\n",
            "2022-03-20 16:22:56,857 [INFO ]  finished episode 8, return: -75.99891142831642, total time steps done: 9998\n",
            "2022-03-20 16:22:56,866 [INFO ]  finished episode 9, return: -318.05989781997266, total time steps done: 9999\n",
            "2022-03-20 16:22:56,877 [INFO ]  finished episode 10, return: -392.89652607603983, total time steps done: 10000\n",
            "2022-03-20 16:23:00,118 [INFO ]  evaluation run, return: -133.92039634087556\n",
            "2022-03-20 16:23:00,118 [INFO ]  evaluation run, return: -331.58775092727353\n",
            "2022-03-20 16:23:00,118 [INFO ]  evaluation run, return: -106.57707654742012\n",
            "2022-03-20 16:23:00,118 [INFO ]  evaluation run, return: 41.29694790799136\n",
            "2022-03-20 16:23:00,118 [INFO ]  evaluation run, return: 35.23983454421895\n",
            "2022-03-20 16:23:00,122 [INFO ]  saved evaluation results in logs/HalfCheetah-v2_acerac_20220320-162231\n",
            "2022-03-20 16:23:00,848 [INFO ]  saved checkpoint in 'logs/HalfCheetah-v2_acerac_20220320-162231/checkpoint'\n",
            "2022-03-20 16:23:03.458507: W tensorflow/python/util/util.cc:368] Sets are not currently considered sequences, but this may change in the future, so consider avoiding using them.\n",
            "2022-03-20 16:26:18,659 [INFO ]  finished episode 11, return: -299.3361166758766, total time steps done: 19991\n",
            "2022-03-20 16:26:18,670 [INFO ]  finished episode 12, return: -294.3485582028987, total time steps done: 19992\n",
            "2022-03-20 16:26:18,680 [INFO ]  finished episode 13, return: -245.39529578263065, total time steps done: 19993\n",
            "2022-03-20 16:26:18,691 [INFO ]  finished episode 14, return: -267.2185976061083, total time steps done: 19994\n",
            "2022-03-20 16:26:18,700 [INFO ]  finished episode 15, return: -288.02708170251674, total time steps done: 19995\n",
            "2022-03-20 16:26:18,710 [INFO ]  finished episode 16, return: -335.0117564999247, total time steps done: 19996\n",
            "2022-03-20 16:26:18,719 [INFO ]  finished episode 17, return: -288.3040491462608, total time steps done: 19997\n",
            "2022-03-20 16:26:18,729 [INFO ]  finished episode 18, return: -265.22745816396554, total time steps done: 19998\n",
            "2022-03-20 16:26:18,739 [INFO ]  finished episode 19, return: -340.3860539684103, total time steps done: 19999\n",
            "2022-03-20 16:26:18,750 [INFO ]  finished episode 20, return: -396.27921039796036, total time steps done: 20000\n",
            "2022-03-20 16:26:22,201 [INFO ]  evaluation run, return: -146.98172462627872\n",
            "2022-03-20 16:26:22,201 [INFO ]  evaluation run, return: -166.7688919725276\n",
            "2022-03-20 16:26:22,201 [INFO ]  evaluation run, return: -165.25746320189052\n",
            "2022-03-20 16:26:22,201 [INFO ]  evaluation run, return: -136.5040888216485\n",
            "2022-03-20 16:26:22,201 [INFO ]  evaluation run, return: -335.5427435876448\n",
            "2022-03-20 16:26:22,205 [INFO ]  saved evaluation results in logs/HalfCheetah-v2_acerac_20220320-162231\n",
            "2022-03-20 16:26:22,917 [INFO ]  saved checkpoint in 'logs/HalfCheetah-v2_acerac_20220320-162231/checkpoint'\n",
            "2022-03-20 16:29:36,819 [INFO ]  finished episode 21, return: -313.6067908388765, total time steps done: 29991\n",
            "2022-03-20 16:29:36,830 [INFO ]  finished episode 22, return: -343.84317822459604, total time steps done: 29992\n",
            "2022-03-20 16:29:36,840 [INFO ]  finished episode 23, return: -308.779551110352, total time steps done: 29993\n",
            "2022-03-20 16:29:36,850 [INFO ]  finished episode 24, return: -247.22410873914336, total time steps done: 29994\n",
            "2022-03-20 16:29:36,860 [INFO ]  finished episode 25, return: -298.3514006383195, total time steps done: 29995\n",
            "2022-03-20 16:29:36,870 [INFO ]  finished episode 26, return: -334.96081426058817, total time steps done: 29996\n",
            "2022-03-20 16:29:36,880 [INFO ]  finished episode 27, return: -233.41969224045292, total time steps done: 29997\n",
            "2022-03-20 16:29:36,889 [INFO ]  finished episode 28, return: -246.23526573670102, total time steps done: 29998\n",
            "2022-03-20 16:29:36,899 [INFO ]  finished episode 29, return: -292.7004153396301, total time steps done: 29999\n",
            "2022-03-20 16:29:36,910 [INFO ]  finished episode 30, return: -252.64741417952925, total time steps done: 30000\n",
            "2022-03-20 16:29:40,340 [INFO ]  evaluation run, return: 3.1896352252314153\n",
            "2022-03-20 16:29:40,340 [INFO ]  evaluation run, return: -142.4736761586422\n",
            "2022-03-20 16:29:40,340 [INFO ]  evaluation run, return: -102.94561039302232\n",
            "2022-03-20 16:29:40,340 [INFO ]  evaluation run, return: -20.636548855938006\n",
            "2022-03-20 16:29:40,340 [INFO ]  evaluation run, return: -6.778276909192115\n",
            "2022-03-20 16:29:40,344 [INFO ]  saved evaluation results in logs/HalfCheetah-v2_acerac_20220320-162231\n",
            "2022-03-20 16:29:41,058 [INFO ]  saved checkpoint in 'logs/HalfCheetah-v2_acerac_20220320-162231/checkpoint'\n",
            "Traceback (most recent call last):\n",
            "  File \"acer/run.py\", line 179, in <module>\n",
            "    main()\n",
            "  File \"acer/run.py\", line 175, in main\n",
            "    runner.run()\n",
            "  File \"/content/acerac/acer/runners.py\", line 155, in run\n",
            "    self._agent.learn()\n",
            "  File \"/content/acerac/acer/algos/acerac.py\", line 254, in learn\n",
            "    for batch in self._data_loader.take(experience_replay_iterations):\n",
            "  File \"/usr/local/lib/python3.7/dist-packages/tensorflow/python/data/ops/iterator_ops.py\", line 836, in __next__\n",
            "    return self._next_internal()\n",
            "  File \"/usr/local/lib/python3.7/dist-packages/tensorflow/python/data/ops/iterator_ops.py\", line 822, in _next_internal\n",
            "    output_shapes=self._flat_output_shapes)\n",
            "  File \"/usr/local/lib/python3.7/dist-packages/tensorflow/python/ops/gen_dataset_ops.py\", line 2920, in iterator_get_next\n",
            "    \"output_shapes\", output_shapes)\n",
            "KeyboardInterrupt\n",
            "^C\n"
          ]
        }
      ]
    }
  ]
}